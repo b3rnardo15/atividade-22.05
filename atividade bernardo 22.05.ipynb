{
 "cells": [
  {
   "cell_type": "code",
   "execution_count": 34,
   "metadata": {},
   "outputs": [
    {
     "name": "stdout",
     "output_type": "stream",
     "text": [
      "5 Patinhos foram passsear,além das montanhas para brincar\n",
      "A mamae gritou qua qua qua qua, mas só 4 voltaram de lá\n",
      "4 Patinhos foram passsear,além das montanhas para brincar\n",
      "A mamae gritou qua qua qua qua, mas só 3 voltaram de lá\n",
      "3 Patinhos foram passsear,além das montanhas para brincar\n",
      "A mamae gritou qua qua qua qua, mas só 2 voltaram de lá\n",
      "2 Patinhos foram passsear,além das montanhas para brincar\n",
      "A mamae gritou qua qua qua qua, mas só 1 voltaram de lá\n",
      "1 Patinhos foram passsear,além das montanhas para brincar\n",
      "1 Patinho foi passear, além das montanhas para brincar\n",
      "A mamae gritou qua qua qua qua, mas só 0 voltou de lá\n"
     ]
    }
   ],
   "source": [
    "for patos in [5,4,3,2,1]:\n",
    "    print(f\"{patos} Patinhos foram passsear,além das montanhas para brincar\")\n",
    "    if patos - 1:\n",
    "        print(f\"A mamae gritou qua qua qua qua, mas só {patos-1} voltaram de lá\")\n",
    "    elif patos == 1:\n",
    "        print(f\"{patos} Patinho foi passear, além das montanhas para brincar\")\n",
    "        print(f\"A mamae gritou qua qua qua qua, mas só {patos-1} voltou de lá\")\n",
    "    else:\n",
    "       ()"
   ]
  },
  {
   "cell_type": "code",
   "execution_count": 46,
   "metadata": {},
   "outputs": [
    {
     "name": "stdout",
     "output_type": "stream",
     "text": [
      "1 Elefante incomoda muita gente\n",
      "2 Incomoda muito mais\n",
      "2 Elefante incomoda muita gente\n",
      "3 Incomoda muito mais\n",
      "3 Elefante incomoda muita gente\n",
      "4 Incomoda muito mais\n",
      "4 Elefante incomoda muita gente\n",
      "5 Incomoda muito mais\n",
      "5 Elefante incomoda muita gente\n",
      "6 Incomoda muito mais\n",
      "6 Elefante incomoda muita gente\n",
      "7 Incomoda muito mais\n",
      "7 Elefante incomoda muita gente\n",
      "8 Incomoda muito mais\n",
      "8 Elefante incomoda muita gente\n",
      "9 Incomoda muito mais\n",
      "9 Elefante incomoda muita gente\n",
      "10 Incomoda muito mais\n",
      "10 Elefante incomoda muita gente\n",
      "11 Incomoda muito mais\n"
     ]
    }
   ],
   "source": [
    "for elefantes in [1,2,3,4,5,6,7,8,9,10]:\n",
    "    print(f\"{elefantes} Elefante incomoda muita gente\")\n",
    "    if elefantes +1:\n",
    "        print(f\"{elefantes++1} Incomoda muito mais\")\n",
    "    elif elefantes :\n",
    "        print(elefantes,\"elefantes\", incomadam * n , \"Muito mais\")\n",
    "    else:()\n",
    "    \n"
   ]
  },
  {
   "cell_type": "code",
   "execution_count": 47,
   "metadata": {},
   "outputs": [
    {
     "name": "stdout",
     "output_type": "stream",
     "text": [
      "1 Elefante incomoda muita gente\n",
      "2 elefantes incomodam,incomodam, Muito mais\n",
      "3 Elefantes incomodam muita gente\n",
      "4 elefantes incomodam,incomodam,incomodam,incomodam, Muito mais\n",
      "5 Elefantes incomodam muita gente\n",
      "6 elefantes incomodam,incomodam,incomodam,incomodam,incomodam,incomodam, Muito mais\n",
      "7 Elefantes incomodam muita gente\n",
      "8 elefantes incomodam,incomodam,incomodam,incomodam,incomodam,incomodam,incomodam,incomodam, Muito mais\n",
      "9 Elefantes incomodam muita gente\n",
      "10 elefantes incomodam,incomodam,incomodam,incomodam,incomodam,incomodam,incomodam,incomodam,incomodam,incomodam, Muito mais\n"
     ]
    }
   ],
   "source": [
    "incomadam = \"incomodam,\"\n",
    "for n in [1,2,3,4,5,6,7,8,9,10]:\n",
    "    if n == 1: print(n, \"Elefante incomoda muita gente\")\n",
    "    elif n % 2 == 0: print(n,\"elefantes\", incomadam * n , \"Muito mais\")\n",
    "    else: print(n, \"Elefantes incomodam muita gente\") \n"
   ]
  },
  {
   "cell_type": "code",
   "execution_count": 48,
   "metadata": {},
   "outputs": [
    {
     "name": "stdout",
     "output_type": "stream",
     "text": [
      "10 Elefante incomoda muita gente\n",
      "9 elefantes incomodam,incomodam,incomodam,incomodam,incomodam,incomodam,incomodam,incomodam,incomodam, Muito mais\n",
      "8 Elefantes incomodam muita gente\n",
      "7 elefantes incomodam,incomodam,incomodam,incomodam,incomodam,incomodam,incomodam, Muito mais\n",
      "6 Elefantes incomodam muita gente\n",
      "5 elefantes incomodam,incomodam,incomodam,incomodam,incomodam, Muito mais\n",
      "4 Elefantes incomodam muita gente\n",
      "3 elefantes incomodam,incomodam,incomodam, Muito mais\n",
      "2 Elefantes incomodam muita gente\n",
      "1 elefantes incomodam, Muito mais\n"
     ]
    }
   ],
   "source": [
    "incomod = \"incomodam,\"\n",
    "for elefantes in [10,9,8,7,6,5,4,3,2,1]:\n",
    "    if elefantes == 10: print(elefantes, \"Elefante incomoda muita gente\")\n",
    "    elif elefantes % 2 : print(elefantes,\"elefantes\", incomod * elefantes , \"Muito mais\")\n",
    "    else: print(elefantes, \"Elefantes incomodam muita gente\")"
   ]
  },
  {
   "cell_type": "code",
   "execution_count": 57,
   "metadata": {},
   "outputs": [
    {
     "ename": "SyntaxError",
     "evalue": "unterminated string literal (detected at line 6) (1444515151.py, line 6)",
     "output_type": "error",
     "traceback": [
      "\u001b[1;36m  Cell \u001b[1;32mIn[57], line 6\u001b[1;36m\u001b[0m\n\u001b[1;33m    print(vai,mari * vai\" )\u001b[0m\n\u001b[1;37m                        ^\u001b[0m\n\u001b[1;31mSyntaxError\u001b[0m\u001b[1;31m:\u001b[0m unterminated string literal (detected at line 6)\n"
     ]
    }
   ],
   "source": [
    "gogo = mari\n",
    "for vai in [1,2,3,4,5,6]:\n",
    "    if gogo == 1: \n",
    "        print(vai,\"É \")\n",
    "elif vai % 2:\n",
    "        print(vai,mari * vai\" )\n",
    "              \n",
    "else: ()\n",
    "\n",
    "          \n",
    "          incomod = \"incomodam,\":\n",
    "\n"
   ]
  },
  {
   "cell_type": "code",
   "execution_count": 65,
   "metadata": {},
   "outputs": [
    {
     "name": "stdout",
     "output_type": "stream",
     "text": [
      "Mariana conta 1 Mariana conta 1 ana, viva a mariana\n",
      "Mariana conta 2 Mariana conta [1, 2]  ana, viva a mariana\n",
      "Mariana conta 3 Mariana conta [1, 2, 3]  ana, viva a mariana\n",
      "Mariana conta 4 Mariana conta [1, 2, 3, 4]  ana, viva a mariana\n",
      "Mariana conta 5 Mariana conta [1, 2, 3, 4, 5]  ana, viva a mariana\n",
      "Mariana conta 6 Mariana conta [1, 2, 3, 4, 5, 6]  ana, viva a mariana\n",
      "Mariana conta 7 Mariana conta [1, 2, 3, 4, 5, 6, 7]  ana, viva a mariana\n",
      "Mariana conta 8 Mariana conta [1, 2, 3, 4, 5, 6, 7, 8]  ana, viva a mariana\n",
      "Mariana conta 9 Mariana conta [1, 2, 3, 4, 5, 6, 7, 8, 9]  ana, viva a mariana\n",
      "Mariana conta 10 Mariana conta [1, 2, 3, 4, 5, 6, 7, 8, 9, 10]  ana, viva a mariana\n"
     ]
    }
   ],
   "source": [
    "marianaConta = [1,2,3,4,5,6,7,8,9,10]\n",
    "n= 1\n",
    "for n in marianaConta:\n",
    "    if n ==1:\n",
    "        print(\"Mariana conta\", (n), \"Mariana conta\", (n), \"ana, viva a mariana\")\n",
    "    else:\n",
    "        print(f\"Mariana conta\", (n), \"Mariana conta\", marianaConta[0:n], \" ana, viva a mariana\")"
   ]
  },
  {
   "cell_type": "markdown",
   "metadata": {},
   "source": []
  }
 ],
 "metadata": {
  "kernelspec": {
   "display_name": "Python 3",
   "language": "python",
   "name": "python3"
  },
  "language_info": {
   "codemirror_mode": {
    "name": "ipython",
    "version": 3
   },
   "file_extension": ".py",
   "mimetype": "text/x-python",
   "name": "python",
   "nbconvert_exporter": "python",
   "pygments_lexer": "ipython3",
   "version": "3.11.9"
  }
 },
 "nbformat": 4,
 "nbformat_minor": 2
}
